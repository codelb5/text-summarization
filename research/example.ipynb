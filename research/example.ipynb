{
 "cells": [
  {
   "cell_type": "code",
   "execution_count": 1,
   "metadata": {},
   "outputs": [],
   "source": [
    "from ensure import ensure_annotations"
   ]
  },
  {
   "cell_type": "code",
   "execution_count": 2,
   "metadata": {},
   "outputs": [],
   "source": [
    "@ensure_annotations\n",
    "def get_res(x:int, y:int):\n",
    "    return x*y"
   ]
  },
  {
   "cell_type": "code",
   "execution_count": 3,
   "metadata": {},
   "outputs": [
    {
     "data": {
      "text/plain": [
       "6"
      ]
     },
     "execution_count": 3,
     "metadata": {},
     "output_type": "execute_result"
    }
   ],
   "source": [
    "get_res(2,3)"
   ]
  },
  {
   "cell_type": "code",
   "execution_count": 4,
   "metadata": {},
   "outputs": [
    {
     "ename": "EnsureError",
     "evalue": "Argument y of type <class 'str'> to <function get_res at 0x000002D1C23E8360> does not match annotation type <class 'int'>",
     "output_type": "error",
     "traceback": [
      "\u001b[1;31m---------------------------------------------------------------------------\u001b[0m",
      "\u001b[1;31mEnsureError\u001b[0m                               Traceback (most recent call last)",
      "Cell \u001b[1;32mIn[4], line 1\u001b[0m\n\u001b[1;32m----> 1\u001b[0m \u001b[43mget_res\u001b[49m\u001b[43m(\u001b[49m\u001b[38;5;241;43m2\u001b[39;49m\u001b[43m,\u001b[49m\u001b[43m \u001b[49m\u001b[38;5;124;43m\"\u001b[39;49m\u001b[38;5;124;43m3\u001b[39;49m\u001b[38;5;124;43m\"\u001b[39;49m\u001b[43m)\u001b[49m\n",
      "File \u001b[1;32md:\\personal\\text-summarizer\\venv\\Lib\\site-packages\\ensure\\main.py:803\u001b[0m, in \u001b[0;36mWrappedFunction.__call__\u001b[1;34m(self, *args, **kwargs)\u001b[0m\n\u001b[0;32m    798\u001b[0m     \u001b[38;5;28;01mif\u001b[39;00m \u001b[38;5;129;01mnot\u001b[39;00m \u001b[38;5;28misinstance\u001b[39m(value, templ):\n\u001b[0;32m    799\u001b[0m         msg \u001b[38;5;241m=\u001b[39m (\n\u001b[0;32m    800\u001b[0m             \u001b[38;5;124m\"\u001b[39m\u001b[38;5;124mArgument \u001b[39m\u001b[38;5;132;01m{arg}\u001b[39;00m\u001b[38;5;124m of type \u001b[39m\u001b[38;5;132;01m{valt}\u001b[39;00m\u001b[38;5;124m to \u001b[39m\u001b[38;5;132;01m{f}\u001b[39;00m\u001b[38;5;124m \u001b[39m\u001b[38;5;124m\"\u001b[39m\n\u001b[0;32m    801\u001b[0m             \u001b[38;5;124m\"\u001b[39m\u001b[38;5;124mdoes not match annotation type \u001b[39m\u001b[38;5;132;01m{t}\u001b[39;00m\u001b[38;5;124m\"\u001b[39m\n\u001b[0;32m    802\u001b[0m         )\n\u001b[1;32m--> 803\u001b[0m         \u001b[38;5;28;01mraise\u001b[39;00m EnsureError(msg\u001b[38;5;241m.\u001b[39mformat(\n\u001b[0;32m    804\u001b[0m             arg\u001b[38;5;241m=\u001b[39marg, f\u001b[38;5;241m=\u001b[39m\u001b[38;5;28mself\u001b[39m\u001b[38;5;241m.\u001b[39mf, t\u001b[38;5;241m=\u001b[39mtempl, valt\u001b[38;5;241m=\u001b[39m\u001b[38;5;28mtype\u001b[39m(value)\n\u001b[0;32m    805\u001b[0m         ))\n\u001b[0;32m    807\u001b[0m \u001b[38;5;28;01mreturn\u001b[39;00m \u001b[38;5;28mself\u001b[39m\u001b[38;5;241m.\u001b[39mf(\u001b[38;5;241m*\u001b[39margs, \u001b[38;5;241m*\u001b[39m\u001b[38;5;241m*\u001b[39mkwargs)\n",
      "\u001b[1;31mEnsureError\u001b[0m: Argument y of type <class 'str'> to <function get_res at 0x000002D1C23E8360> does not match annotation type <class 'int'>"
     ]
    }
   ],
   "source": [
    "get_res(2, \"3\")"
   ]
  },
  {
   "cell_type": "code",
   "execution_count": 12,
   "metadata": {},
   "outputs": [],
   "source": [
    "import os\n",
    "\n",
    "def print_folder_structure(folder_path, indent=0):\n",
    "    \"\"\"\n",
    "    Prints the folder and file structure of the given directory.\n",
    "\n",
    "    :param folder_path: Path of the folder to inspect.\n",
    "    :param indent: Current indentation level (used for recursion).\n",
    "    \"\"\"\n",
    "    try:\n",
    "        # List all entries in the folder\n",
    "        entries = os.listdir(folder_path)\n",
    "        for entry in entries:\n",
    "            entry_path = os.path.join(folder_path, entry)\n",
    "            if os.path.isdir(entry_path) and entry in [\"venv\", \".git\", \"__pycache__\"]:\n",
    "                continue\n",
    "            print(\"  \" * indent + f\"- {entry}\")\n",
    "            # If entry is a directory, recurse into it\n",
    "            if os.path.isdir(entry_path):\n",
    "                print_folder_structure(entry_path, indent + 1)\n",
    "    except PermissionError:\n",
    "        print(\"  \" * indent + f\"- [Access Denied]\")\n",
    "\n"
   ]
  },
  {
   "cell_type": "code",
   "execution_count": 13,
   "metadata": {},
   "outputs": [
    {
     "name": "stdout",
     "output_type": "stream",
     "text": [
      "- .github\n",
      "  - workflows\n",
      "    - .gitkeep\n",
      "- .gitignore\n",
      "- app.py\n",
      "- config\n",
      "  - config.yaml\n",
      "- Dockerfile\n",
      "- logs\n",
      "  - running_logs.log\n",
      "- main.py\n",
      "- params.yaml\n",
      "- Readme.md\n",
      "- requirements.txt\n",
      "- research\n",
      "  - data_ingestion.ipynb\n",
      "  - example.ipynb\n",
      "  - logs\n",
      "    - running_logs.log\n",
      "- setup.py\n",
      "- src\n",
      "  - components\n",
      "    - __init__.py\n",
      "  - config\n",
      "    - configuration.py\n",
      "    - __init__.py\n",
      "  - constants\n",
      "    - __init__.py\n",
      "  - entity\n",
      "    - __init__.py\n",
      "  - logger\n",
      "    - __init__.py\n",
      "  - pipeline\n",
      "    - __init__.py\n",
      "  - text_summarizer.egg-info\n",
      "    - dependency_links.txt\n",
      "    - PKG-INFO\n",
      "    - SOURCES.txt\n",
      "    - top_level.txt\n",
      "  - utils\n",
      "    - common.py\n",
      "    - __init__.py\n",
      "  - __init__.py\n",
      "- template.py\n"
     ]
    }
   ],
   "source": [
    "print_folder_structure(folder_path=r\"D:\\personal\\text-summarizer\")"
   ]
  },
  {
   "cell_type": "code",
   "execution_count": 14,
   "metadata": {},
   "outputs": [
    {
     "data": {
      "text/plain": [
       "'d:\\\\personal\\\\text-summarizer\\\\research'"
      ]
     },
     "execution_count": 14,
     "metadata": {},
     "output_type": "execute_result"
    }
   ],
   "source": [
    "os.getcwd()"
   ]
  },
  {
   "cell_type": "code",
   "execution_count": null,
   "metadata": {},
   "outputs": [],
   "source": []
  }
 ],
 "metadata": {
  "kernelspec": {
   "display_name": "venv",
   "language": "python",
   "name": "python3"
  },
  "language_info": {
   "codemirror_mode": {
    "name": "ipython",
    "version": 3
   },
   "file_extension": ".py",
   "mimetype": "text/x-python",
   "name": "python",
   "nbconvert_exporter": "python",
   "pygments_lexer": "ipython3",
   "version": "3.11.11"
  }
 },
 "nbformat": 4,
 "nbformat_minor": 2
}
